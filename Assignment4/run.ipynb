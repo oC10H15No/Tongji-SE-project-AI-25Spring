{
 "cells": [
  {
   "cell_type": "markdown",
   "id": "f4148aac-a53c-4041-aed0-f46e8851d3ad",
   "metadata": {},
   "source": [
    "Qwen"
   ]
  },
  {
   "cell_type": "code",
   "execution_count": 3,
   "id": "109bbf1d-751f-48e8-852b-7e14f996f630",
   "metadata": {
    "ExecutionIndicator": {
     "show": true
    },
    "execution": {
     "iopub.execute_input": "2025-06-02T01:30:26.694497Z",
     "iopub.status.busy": "2025-06-02T01:30:26.694165Z",
     "iopub.status.idle": "2025-06-02T01:33:21.955866Z",
     "shell.execute_reply": "2025-06-02T01:33:21.955321Z",
     "shell.execute_reply.started": "2025-06-02T01:30:26.694480Z"
    },
    "tags": []
   },
   "outputs": [
    {
     "data": {
      "application/vnd.jupyter.widget-view+json": {
       "model_id": "824372defef24deb86253e42541f49ed",
       "version_major": 2,
       "version_minor": 0
      },
      "text/plain": [
       "Loading checkpoint shards:   0%|          | 0/8 [00:00<?, ?it/s]"
      ]
     },
     "metadata": {},
     "output_type": "display_data"
    },
    {
     "name": "stdout",
     "output_type": "stream",
     "text": [
      "你好！有什么我可以帮助你的吗？\n"
     ]
    }
   ],
   "source": [
    "from transformers import TextStreamer\n",
    "from modelscope import AutoModelForCausalLM, AutoTokenizer\n",
    "from transformers.generation import GenerationConfig\n",
    "\n",
    "model_name = \"./Qwen-7B-Chat\" # 本地路径\n",
    "\n",
    "tokenizer = AutoTokenizer.from_pretrained(\n",
    "    model_name, \n",
    "    trust_remote_code=True\n",
    ")\n",
    "\n",
    "model = AutoModelForCausalLM.from_pretrained(\n",
    "    model_name,\n",
    "    trust_remote_code=True,\n",
    "    torch_dtype=\"auto\"\n",
    ").eval()\n",
    "\n",
    "response, history = model.chat(tokenizer, \"你好\", history=None)\n",
    "print(response)"
   ]
  },
  {
   "cell_type": "markdown",
   "id": "e1c4cd6b-7ed9-41fa-94ec-cb265d188393",
   "metadata": {},
   "source": [
    "chatglm"
   ]
  },
  {
   "cell_type": "code",
   "execution_count": 12,
   "id": "b7e8428e-eba7-4e78-a843-d20b2da3e268",
   "metadata": {
    "execution": {
     "iopub.execute_input": "2025-06-02T02:14:51.901775Z",
     "iopub.status.busy": "2025-06-02T02:14:51.901482Z",
     "iopub.status.idle": "2025-06-02T02:19:03.096080Z",
     "shell.execute_reply": "2025-06-02T02:19:03.095594Z",
     "shell.execute_reply.started": "2025-06-02T02:14:51.901760Z"
    },
    "tags": []
   },
   "outputs": [
    {
     "name": "stderr",
     "output_type": "stream",
     "text": [
      "Setting eos_token is not supported, use the default one.\n",
      "Setting pad_token is not supported, use the default one.\n",
      "Setting unk_token is not supported, use the default one.\n"
     ]
    },
    {
     "data": {
      "application/vnd.jupyter.widget-view+json": {
       "model_id": "cca330c4c9814da1a23d193e781428ba",
       "version_major": 2,
       "version_minor": 0
      },
      "text/plain": [
       "Loading checkpoint shards:   0%|          | 0/7 [00:00<?, ?it/s]"
      ]
     },
     "metadata": {},
     "output_type": "display_data"
    },
    {
     "name": "stdout",
     "output_type": "stream",
     "text": [
      "你好👋！我是人工智能助手 ChatGLM3-6B，很高兴见到你，欢迎问我任何问题。\n"
     ]
    }
   ],
   "source": [
    "from transformers import TextStreamer\n",
    "from modelscope import AutoModelForCausalLM, AutoTokenizer\n",
    "from transformers.generation import GenerationConfig\n",
    "\n",
    "model_name = \"./chatglm3-6b\" # 本地路径\n",
    "\n",
    "tokenizer = AutoTokenizer.from_pretrained(\n",
    "    model_name, \n",
    "    trust_remote_code=True\n",
    ")\n",
    "\n",
    "model = AutoModelForCausalLM.from_pretrained(\n",
    "    model_name,\n",
    "    trust_remote_code=True,\n",
    "    torch_dtype=\"auto\"\n",
    ").eval()\n",
    "\n",
    "response, history = model.chat(tokenizer, \"你好\", history=None)\n",
    "print(response)"
   ]
  },
  {
   "cell_type": "markdown",
   "id": "d454fbc7-9a33-467e-9084-960f330baa58",
   "metadata": {},
   "source": [
    "Q1"
   ]
  },
  {
   "cell_type": "code",
   "execution_count": 13,
   "id": "1ee51803-79eb-4a16-bf85-42bd7ba93b9e",
   "metadata": {
    "execution": {
     "iopub.execute_input": "2025-06-02T02:20:50.117064Z",
     "iopub.status.busy": "2025-06-02T02:20:50.116733Z",
     "iopub.status.idle": "2025-06-02T02:28:24.132454Z",
     "shell.execute_reply": "2025-06-02T02:28:24.131849Z",
     "shell.execute_reply.started": "2025-06-02T02:20:50.117048Z"
    },
    "tags": []
   },
   "outputs": [
    {
     "name": "stdout",
     "output_type": "stream",
     "text": [
      "1、冬天：能穿多少穿多少，强调的是在冬天要尽可能多穿一些衣服，以保暖。\n",
      "2、夏天：能穿多少穿多少，强调的是在夏天要尽可能少穿一些衣服，以凉爽。\n"
     ]
    }
   ],
   "source": [
    "response, history = model.chat(tokenizer, \"请说出以下两句话区别在哪里？ 1、冬天：能穿多少穿多少 2、夏天：能穿多少穿多少\", history=None)\n",
    "print(response)"
   ]
  },
  {
   "cell_type": "markdown",
   "id": "5eef60cc-cf16-43b0-b562-a0ed17a5b5b9",
   "metadata": {},
   "source": [
    "Q2"
   ]
  },
  {
   "cell_type": "code",
   "execution_count": 14,
   "id": "13d660ec-48f5-4d24-8c4f-4dbc27a3925c",
   "metadata": {
    "execution": {
     "iopub.execute_input": "2025-06-02T02:28:33.516211Z",
     "iopub.status.busy": "2025-06-02T02:28:33.515925Z",
     "iopub.status.idle": "2025-06-02T02:45:29.726488Z",
     "shell.execute_reply": "2025-06-02T02:45:29.725917Z",
     "shell.execute_reply.started": "2025-06-02T02:28:33.516196Z"
    },
    "tags": []
   },
   "outputs": [
    {
     "name": "stdout",
     "output_type": "stream",
     "text": [
      "这两句话都描述了单身狗的情况,但使用了不同的语法和表达方式。\n",
      "\n",
      "第一句话使用了“一是谁都看不上”,强调单身狗认为所有人都不足以成为他的伴侣,因此他看不上任何人。这种明智的自信和独立思考方式,让单身狗能够独立自主地选择自己的生活方式,不受传统观念的束缚。\n",
      "\n",
      "第二句话则使用了“谁都看不上”,这种说法虽然和第一句话的意思相似,但是语法上更加简单。这种说法可能暗示单身狗对自己没有信心,认为自己不够好,所以无法吸引到其他人。这种说法可能缺乏独立思考和自信, Beside, \"谁都看不上\" is a more common phrase used in everyday conversation, while \"一是谁都看不上\" is a more formal expression.\n"
     ]
    }
   ],
   "source": [
    "response, history = model.chat(tokenizer, \"请说出以下两句话区别在哪里？单身狗产生的原因有两个，一是谁都看不上，二是谁都看不上\", history=None)\n",
    "print(response)"
   ]
  },
  {
   "cell_type": "markdown",
   "id": "16bfbcbb-f767-4172-bb9c-e4860d93b4ff",
   "metadata": {},
   "source": [
    "Q3"
   ]
  },
  {
   "cell_type": "code",
   "execution_count": 15,
   "id": "9d110c90-4554-4849-af30-29874b73d77c",
   "metadata": {
    "execution": {
     "iopub.execute_input": "2025-06-02T02:46:08.263728Z",
     "iopub.status.busy": "2025-06-02T02:46:08.263449Z",
     "iopub.status.idle": "2025-06-02T02:56:10.147838Z",
     "shell.execute_reply": "2025-06-02T02:56:10.147350Z",
     "shell.execute_reply.started": "2025-06-02T02:46:08.263714Z"
    },
    "tags": []
   },
   "outputs": [
    {
     "name": "stdout",
     "output_type": "stream",
     "text": [
      "这句话是一个典型的悖论，名为\"不知道他不知道\"。在这个问题中，主要有两个人物，无法确定谁知道、谁不知道。\n",
      "\n",
      "假设A知道B知道C，B知道C知道A，那么A知道C知道B。这样就形成了一个循环，每个人都知道别人知道的事情，但无法确定自己是否知道被别人不知道的事情。这种情况下，我们无法确定到底谁知道、谁不知道。\n"
     ]
    }
   ],
   "source": [
    "response, history = model.chat(tokenizer, \"他知道我知道你知道他不知道吗？ 这句话里，到底谁不知道\", history=None)\n",
    "print(response)"
   ]
  },
  {
   "cell_type": "markdown",
   "id": "a6fa330e-e046-4876-a509-58829dbfc831",
   "metadata": {},
   "source": [
    "Q4"
   ]
  },
  {
   "cell_type": "code",
   "execution_count": 16,
   "id": "1f0e2652-c2a2-4da8-89d7-162317b0a59f",
   "metadata": {
    "execution": {
     "iopub.execute_input": "2025-06-02T02:56:10.149043Z",
     "iopub.status.busy": "2025-06-02T02:56:10.148641Z",
     "iopub.status.idle": "2025-06-02T03:02:04.566816Z",
     "shell.execute_reply": "2025-06-02T03:02:04.566241Z",
     "shell.execute_reply.started": "2025-06-02T02:56:10.149023Z"
    },
    "tags": []
   },
   "outputs": [
    {
     "name": "stdout",
     "output_type": "stream",
     "text": [
      "从这句话里可以看出，明明知道白白喜欢他，但白白并没有表达出自己的喜欢。所以，在这个情境下，是明明在喜欢白白，而不是白白喜欢明明。\n"
     ]
    }
   ],
   "source": [
    "response, history = model.chat(tokenizer, \"明明明明明白白白喜欢他，可她就是不说。 这句话里，明明和白白谁喜欢谁？\", history=None)\n",
    "print(response)"
   ]
  },
  {
   "cell_type": "markdown",
   "id": "a9647b9d-a23c-456d-bb4a-c0cd84ad6085",
   "metadata": {},
   "source": [
    "Q5"
   ]
  },
  {
   "cell_type": "code",
   "execution_count": 17,
   "id": "667d5490-2a16-43bb-aec0-c5c2eb38af78",
   "metadata": {
    "execution": {
     "iopub.execute_input": "2025-06-02T03:02:04.567748Z",
     "iopub.status.busy": "2025-06-02T03:02:04.567499Z",
     "iopub.status.idle": "2025-06-02T03:30:06.386169Z",
     "shell.execute_reply": "2025-06-02T03:30:06.385603Z",
     "shell.execute_reply.started": "2025-06-02T03:02:04.567725Z"
    },
    "tags": []
   },
   "outputs": [
    {
     "name": "stdout",
     "output_type": "stream",
     "text": [
      "1. 领导：你这是什么意思？ 意思：含义，意义。领导可能是在询问小明刚刚说的话或做的动作的含义。\n",
      "2. 小明：没什么意思。意思：没有意义，无意义。小明可能是在表示自己刚刚说的话或做的动作没有特别的含义或价值。\n",
      "3. 领导：你这就不够意思了。意思：不够好，不够充分。领导可能是在批评小明刚刚说的话或做的动作不够认真或充分。\n",
      "4. 小明：小意思，小意思。意思：指小额的、不重要的东西。小明可能是在表示自己刚刚说的话或做的动作只是一个小问题，不算大事情。\n",
      "5. 领导：那我就不好意思了。意思：表示抱歉或感谢。领导可能是在表示自己对于小明刚刚说的话或做的动作感到抱歉或感谢。\n",
      "6. 小明：其实也没有别的意思。意思：表示自己的话或动作确实没有其他的含义或目的。小明可能是在表示自己刚刚说的话或做的动作只是随口说说的，没有其他特别的含义。\n"
     ]
    }
   ],
   "source": [
    "response, history = model.chat(tokenizer, \"领导：你这是什么意思？ 小明：没什么意思。意思意思。 领导：你这就不够意思了。 小明：小意思，小意思。领导：你这人真有意思。 小明：其实也没有别的意思。 领导：那我就不好意思了。 小明：是我不好意思。请问：以上“意思”分别是什么意思。\", history=None)\n",
    "print(response)"
   ]
  },
  {
   "cell_type": "markdown",
   "id": "e67b1e22-9550-4288-a615-240f19b0caf1",
   "metadata": {},
   "source": [
    "Q6"
   ]
  },
  {
   "cell_type": "code",
   "execution_count": 18,
   "id": "ce293e0f-9a39-4450-9274-4a34274e02a2",
   "metadata": {
    "execution": {
     "iopub.execute_input": "2025-06-02T03:30:06.387355Z",
     "iopub.status.busy": "2025-06-02T03:30:06.387117Z",
     "iopub.status.idle": "2025-06-02T03:52:28.043492Z",
     "shell.execute_reply": "2025-06-02T03:52:28.042929Z",
     "shell.execute_reply.started": "2025-06-02T03:30:06.387337Z"
    },
    "tags": []
   },
   "outputs": [
    {
     "name": "stdout",
     "output_type": "stream",
     "text": [
      "同济大学是一所位于中国上海的著名综合性大学,成立于1907年,原名“同济医学堂”,后发展为今天的综合性大学。同济大学是中国最早成立的工科学校之一,也是中国著名的“工科之源”。\n",
      "\n",
      "同济大学拥有广泛的学科领域,包括工、理、管、文、法、经、医等七个学科。在工程领域,同济大学是中国最著名的大学之一,特别是在土木工程、机械工程、材料科学、建筑学等方面具有很高的声誉和影响力。在管理、经济、文学、法学等领域,同济大学也有着优秀的表现和声誉。\n",
      "\n",
      "同济大学拥有一支强大的师资队伍,包括众多国内外知名学者和专家。校园内设施齐全,包括图书馆、实验室、体育场馆等,为学生提供良好的学习和生活条件。\n",
      "\n",
      "同济大学在国内外享有很高的声誉和影响力,多次被评为中国最佳大学之一,也是中国最具影响力的大学之一。\n"
     ]
    }
   ],
   "source": [
    "response, history = model.chat(tokenizer, \"简要介绍同济大学\", history=None)\n",
    "print(response)"
   ]
  },
  {
   "cell_type": "markdown",
   "id": "a935b1dd-1cb2-4a60-b3ef-16e7580f7945",
   "metadata": {},
   "source": [
    "Q7"
   ]
  },
  {
   "cell_type": "code",
   "execution_count": 19,
   "id": "bf15923d-110a-4bf8-bf2a-a75194228f30",
   "metadata": {
    "execution": {
     "iopub.execute_input": "2025-06-02T03:52:28.044312Z",
     "iopub.status.busy": "2025-06-02T03:52:28.044105Z",
     "iopub.status.idle": "2025-06-02T04:05:45.351441Z",
     "shell.execute_reply": "2025-06-02T04:05:45.344972Z",
     "shell.execute_reply.started": "2025-06-02T03:52:28.044297Z"
    },
    "tags": []
   },
   "outputs": [
    {
     "name": "stdout",
     "output_type": "stream",
     "text": [
      "def sum_of_squares_of_evens(numbers):\n",
      "    return sum([x**2 for x in numbers if x % 2 == 0])\n",
      "\n",
      "# Example usage:\n",
      "numbers = [1, 2, 3, 4, 5, 6]\n",
      "result = sum_of_squares_of_evens(numbers)\n",
      "print(result)  # Output: 55 (2^2 + 4^2 + 6^2 = 55)\n"
     ]
    }
   ],
   "source": [
    "response, history = model.chat(tokenizer, \"请用Python写一个函数，输入一个整数列表，返回列表中所有偶数的平方和。\", history=None)\n",
    "print(response)"
   ]
  },
  {
   "cell_type": "markdown",
   "id": "9826fd52-bf61-44f8-826b-063210830b88",
   "metadata": {},
   "source": [
    "Q8"
   ]
  },
  {
   "cell_type": "code",
   "execution_count": 20,
   "id": "d313ccd6-40c8-4f87-a121-6466b1339452",
   "metadata": {
    "execution": {
     "iopub.execute_input": "2025-06-02T04:05:45.352157Z",
     "iopub.status.busy": "2025-06-02T04:05:45.351946Z",
     "iopub.status.idle": "2025-06-02T04:12:51.258768Z",
     "shell.execute_reply": "2025-06-02T04:12:51.258298Z",
     "shell.execute_reply.started": "2025-06-02T04:05:45.352144Z"
    },
    "tags": []
   },
   "outputs": [
    {
     "name": "stdout",
     "output_type": "stream",
     "text": [
      "\"Technology changes life, and innovation leads to the future.\"\n",
      "\n",
      "\"科技改变生活，创新引领未来。\" (中文)\n",
      "\n",
      "\"Technology wakes up life, and innovation paves the way for the future.\" (德文)\n"
     ]
    }
   ],
   "source": [
    "response, history = model.chat(tokenizer, \"请将这句话翻译成英文/日文/德文等：‘科技改变生活，创新引领未来。\", history=None)\n",
    "print(response)"
   ]
  }
 ],
 "metadata": {
  "kernelspec": {
   "display_name": "Python 3 (ipykernel)",
   "language": "python",
   "name": "python3"
  },
  "language_info": {
   "codemirror_mode": {
    "name": "ipython",
    "version": 3
   },
   "file_extension": ".py",
   "mimetype": "text/x-python",
   "name": "python",
   "nbconvert_exporter": "python",
   "pygments_lexer": "ipython3",
   "version": "3.11.11"
  }
 },
 "nbformat": 4,
 "nbformat_minor": 5
}
